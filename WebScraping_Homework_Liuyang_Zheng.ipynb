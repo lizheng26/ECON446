{
 "cells": [
  {
   "cell_type": "code",
   "execution_count": 1,
   "id": "0cc9be4a",
   "metadata": {},
   "outputs": [],
   "source": [
    "#Names of Group Members"
   ]
  },
  {
   "cell_type": "code",
   "execution_count": 2,
   "id": "17a188b7",
   "metadata": {},
   "outputs": [],
   "source": [
    "#Liuyang Zheng(706089851)"
   ]
  },
  {
   "cell_type": "code",
   "execution_count": 3,
   "id": "e5e3796f-a90a-4f7a-9a57-f6e0dd33435b",
   "metadata": {},
   "outputs": [],
   "source": [
    "from bs4 import BeautifulSoup\n",
    "import requests\n",
    "import pandas as pd\n",
    "import re\n",
    "import numpy as np"
   ]
  },
  {
   "cell_type": "markdown",
   "id": "a746379b",
   "metadata": {},
   "source": [
    "# Q1.) Web Crawling Tables"
   ]
  },
  {
   "cell_type": "markdown",
   "id": "1c9c053e",
   "metadata": {},
   "source": [
    "### Q1.A.) Create a list of links for all the wikipedia pages for NYSE traded companies A-Z and 0-9"
   ]
  },
  {
   "cell_type": "code",
   "execution_count": 4,
   "id": "cacb8e3d",
   "metadata": {},
   "outputs": [],
   "source": [
    "# URL = f\"https://en.wikipedia.org/wiki/Companies_listed_on_the_New_York_Stock_Exchange_(A)\"\n",
    "URLs = []\n",
    "alphabet = [chr(i) for i in range(65, 91)]\n",
    "alphabet.append(\"0-9\")\n",
    "for a in alphabet:\n",
    "    URLs.append(f\"https://en.wikipedia.org/wiki/Companies_listed_on_the_New_York_Stock_Exchange_({a})\")"
   ]
  },
  {
   "cell_type": "code",
   "execution_count": 5,
   "id": "51ddbad3-cd4e-47ec-a37f-4bd7ecdc118c",
   "metadata": {},
   "outputs": [
    {
     "data": {
      "text/plain": [
       "['https://en.wikipedia.org/wiki/Companies_listed_on_the_New_York_Stock_Exchange_(A)',\n",
       " 'https://en.wikipedia.org/wiki/Companies_listed_on_the_New_York_Stock_Exchange_(B)',\n",
       " 'https://en.wikipedia.org/wiki/Companies_listed_on_the_New_York_Stock_Exchange_(C)',\n",
       " 'https://en.wikipedia.org/wiki/Companies_listed_on_the_New_York_Stock_Exchange_(D)',\n",
       " 'https://en.wikipedia.org/wiki/Companies_listed_on_the_New_York_Stock_Exchange_(E)',\n",
       " 'https://en.wikipedia.org/wiki/Companies_listed_on_the_New_York_Stock_Exchange_(F)',\n",
       " 'https://en.wikipedia.org/wiki/Companies_listed_on_the_New_York_Stock_Exchange_(G)',\n",
       " 'https://en.wikipedia.org/wiki/Companies_listed_on_the_New_York_Stock_Exchange_(H)',\n",
       " 'https://en.wikipedia.org/wiki/Companies_listed_on_the_New_York_Stock_Exchange_(I)',\n",
       " 'https://en.wikipedia.org/wiki/Companies_listed_on_the_New_York_Stock_Exchange_(J)',\n",
       " 'https://en.wikipedia.org/wiki/Companies_listed_on_the_New_York_Stock_Exchange_(K)',\n",
       " 'https://en.wikipedia.org/wiki/Companies_listed_on_the_New_York_Stock_Exchange_(L)',\n",
       " 'https://en.wikipedia.org/wiki/Companies_listed_on_the_New_York_Stock_Exchange_(M)',\n",
       " 'https://en.wikipedia.org/wiki/Companies_listed_on_the_New_York_Stock_Exchange_(N)',\n",
       " 'https://en.wikipedia.org/wiki/Companies_listed_on_the_New_York_Stock_Exchange_(O)',\n",
       " 'https://en.wikipedia.org/wiki/Companies_listed_on_the_New_York_Stock_Exchange_(P)',\n",
       " 'https://en.wikipedia.org/wiki/Companies_listed_on_the_New_York_Stock_Exchange_(Q)',\n",
       " 'https://en.wikipedia.org/wiki/Companies_listed_on_the_New_York_Stock_Exchange_(R)',\n",
       " 'https://en.wikipedia.org/wiki/Companies_listed_on_the_New_York_Stock_Exchange_(S)',\n",
       " 'https://en.wikipedia.org/wiki/Companies_listed_on_the_New_York_Stock_Exchange_(T)',\n",
       " 'https://en.wikipedia.org/wiki/Companies_listed_on_the_New_York_Stock_Exchange_(U)',\n",
       " 'https://en.wikipedia.org/wiki/Companies_listed_on_the_New_York_Stock_Exchange_(V)',\n",
       " 'https://en.wikipedia.org/wiki/Companies_listed_on_the_New_York_Stock_Exchange_(W)',\n",
       " 'https://en.wikipedia.org/wiki/Companies_listed_on_the_New_York_Stock_Exchange_(X)',\n",
       " 'https://en.wikipedia.org/wiki/Companies_listed_on_the_New_York_Stock_Exchange_(Y)',\n",
       " 'https://en.wikipedia.org/wiki/Companies_listed_on_the_New_York_Stock_Exchange_(Z)',\n",
       " 'https://en.wikipedia.org/wiki/Companies_listed_on_the_New_York_Stock_Exchange_(0-9)']"
      ]
     },
     "execution_count": 5,
     "metadata": {},
     "output_type": "execute_result"
    }
   ],
   "source": [
    "URLs"
   ]
  },
  {
   "cell_type": "markdown",
   "id": "6efc32e3",
   "metadata": {},
   "source": [
    "### Q1.B.) Crawl through all the URLs and make 1 DF with all the NYSE publically traded companies"
   ]
  },
  {
   "cell_type": "code",
   "execution_count": 6,
   "id": "6c54804a-2441-4aab-8706-b75e568a012b",
   "metadata": {},
   "outputs": [],
   "source": [
    "df_list = []\n",
    "for URL in URLs:\n",
    "    html = requests.get(URL).content\n",
    "    df_list.append(pd.read_html(html)[1])\n",
    "df_list = pd.concat(df_list)"
   ]
  },
  {
   "cell_type": "code",
   "execution_count": 7,
   "id": "0118f584-c16e-465b-99d8-4027bb05b52f",
   "metadata": {},
   "outputs": [
    {
     "data": {
      "text/html": [
       "<div>\n",
       "<style scoped>\n",
       "    .dataframe tbody tr th:only-of-type {\n",
       "        vertical-align: middle;\n",
       "    }\n",
       "\n",
       "    .dataframe tbody tr th {\n",
       "        vertical-align: top;\n",
       "    }\n",
       "\n",
       "    .dataframe thead th {\n",
       "        text-align: right;\n",
       "    }\n",
       "</style>\n",
       "<table border=\"1\" class=\"dataframe\">\n",
       "  <thead>\n",
       "    <tr style=\"text-align: right;\">\n",
       "      <th></th>\n",
       "      <th>Stock name</th>\n",
       "      <th>Symbol</th>\n",
       "      <th>Country of origin</th>\n",
       "    </tr>\n",
       "  </thead>\n",
       "  <tbody>\n",
       "    <tr>\n",
       "      <th>0</th>\n",
       "      <td>A. O. Smith Corporation</td>\n",
       "      <td>AOS</td>\n",
       "      <td>US</td>\n",
       "    </tr>\n",
       "    <tr>\n",
       "      <th>1</th>\n",
       "      <td>A10 Networks, Inc.</td>\n",
       "      <td>ATEN</td>\n",
       "      <td>US</td>\n",
       "    </tr>\n",
       "    <tr>\n",
       "      <th>2</th>\n",
       "      <td>AAC Holdings Inc.</td>\n",
       "      <td>AAC</td>\n",
       "      <td>US</td>\n",
       "    </tr>\n",
       "    <tr>\n",
       "      <th>3</th>\n",
       "      <td>AAR Corporation</td>\n",
       "      <td>AIR</td>\n",
       "      <td>US</td>\n",
       "    </tr>\n",
       "    <tr>\n",
       "      <th>4</th>\n",
       "      <td>Aaron's Inc.</td>\n",
       "      <td>AAN</td>\n",
       "      <td>US</td>\n",
       "    </tr>\n",
       "    <tr>\n",
       "      <th>...</th>\n",
       "      <td>...</td>\n",
       "      <td>...</td>\n",
       "      <td>...</td>\n",
       "    </tr>\n",
       "    <tr>\n",
       "      <th>0</th>\n",
       "      <td>3D Systems Corporation</td>\n",
       "      <td>DDD</td>\n",
       "      <td>US</td>\n",
       "    </tr>\n",
       "    <tr>\n",
       "      <th>1</th>\n",
       "      <td>3M Company</td>\n",
       "      <td>MMM</td>\n",
       "      <td>US</td>\n",
       "    </tr>\n",
       "    <tr>\n",
       "      <th>2</th>\n",
       "      <td>500.com</td>\n",
       "      <td>WBAI</td>\n",
       "      <td>China</td>\n",
       "    </tr>\n",
       "    <tr>\n",
       "      <th>3</th>\n",
       "      <td>58.com Inc.</td>\n",
       "      <td>WUBA</td>\n",
       "      <td>China</td>\n",
       "    </tr>\n",
       "    <tr>\n",
       "      <th>4</th>\n",
       "      <td>8x8 Inc.</td>\n",
       "      <td>EGHT</td>\n",
       "      <td>US</td>\n",
       "    </tr>\n",
       "  </tbody>\n",
       "</table>\n",
       "<p>2723 rows × 3 columns</p>\n",
       "</div>"
      ],
      "text/plain": [
       "                 Stock name Symbol Country of origin\n",
       "0   A. O. Smith Corporation    AOS                US\n",
       "1        A10 Networks, Inc.   ATEN                US\n",
       "2         AAC Holdings Inc.    AAC                US\n",
       "3           AAR Corporation    AIR                US\n",
       "4              Aaron's Inc.    AAN                US\n",
       "..                      ...    ...               ...\n",
       "0    3D Systems Corporation    DDD                US\n",
       "1                3M Company    MMM                US\n",
       "2                   500.com   WBAI             China\n",
       "3               58.com Inc.   WUBA             China\n",
       "4                  8x8 Inc.   EGHT                US\n",
       "\n",
       "[2723 rows x 3 columns]"
      ]
     },
     "execution_count": 7,
     "metadata": {},
     "output_type": "execute_result"
    }
   ],
   "source": [
    "df_list"
   ]
  },
  {
   "cell_type": "markdown",
   "id": "4290fd74",
   "metadata": {},
   "source": [
    "### Q1.C.) What is the percetages of companies that contain 1 letter, 2 letters, 3 letters, 4 letters and 5 letters in the ticker?"
   ]
  },
  {
   "cell_type": "code",
   "execution_count": 8,
   "id": "ed2fedaa-aafe-450a-97a9-f1f1637121b8",
   "metadata": {},
   "outputs": [],
   "source": [
    "tickerList = df_list[\"Symbol\"].to_list()"
   ]
  },
  {
   "cell_type": "code",
   "execution_count": 9,
   "id": "498afb3a",
   "metadata": {},
   "outputs": [
    {
     "name": "stdout",
     "output_type": "stream",
     "text": [
      "The percetage of companies that contain 1 letter: 0.8813808299669482 %\n",
      "The percetage of companies that contain 2 letters: 6.9775982372383405 %\n",
      "The percetage of companies that contain 3 letters: 65.18545721630555 %\n",
      "The percetage of companies that contain 4 letters: 14.836577304443628 %\n",
      "The percetage of companies that contain 5 letters: 0.8079324274697025 %\n"
     ]
    }
   ],
   "source": [
    "print(\"The percetage of companies that contain 1 letter:\", len([i for i in tickerList if len(i) == 1]) * 100/len(tickerList), \"%\")\n",
    "print(\"The percetage of companies that contain 2 letters:\", len([i for i in tickerList if len(i) == 2]) * 100/len(tickerList), \"%\")\n",
    "print(\"The percetage of companies that contain 3 letters:\", len([i for i in tickerList if len(i) == 3]) * 100/len(tickerList), \"%\")\n",
    "print(\"The percetage of companies that contain 4 letters:\", len([i for i in tickerList if len(i) == 4]) * 100/len(tickerList), \"%\")\n",
    "print(\"The percetage of companies that contain 5 letters:\", len([i for i in tickerList if len(i) == 5]) * 100/len(tickerList), \"%\")"
   ]
  },
  {
   "cell_type": "markdown",
   "id": "6a2ef18b",
   "metadata": {},
   "source": [
    "# Q2.) Web Scraping Using Beautiful Soup"
   ]
  },
  {
   "cell_type": "markdown",
   "id": "bf558ab0",
   "metadata": {},
   "source": [
    "### Q2.A.) Using Beautiful soup .findAll method you will webscrape the front page of Reddit. Get a list of all of the \"timestamps\""
   ]
  },
  {
   "cell_type": "code",
   "execution_count": 10,
   "id": "486d042e",
   "metadata": {},
   "outputs": [],
   "source": [
    "URL = \"https://www.reddit.com\""
   ]
  },
  {
   "cell_type": "code",
   "execution_count": 11,
   "id": "ea0be811",
   "metadata": {},
   "outputs": [
    {
     "name": "stdout",
     "output_type": "stream",
     "text": [
      "['10 hours ago', '13 hours ago', '10 hours ago', '5 hours ago', '11 hours ago', '11 hours ago', '16 hours ago', '4 hours ago']\n"
     ]
    }
   ],
   "source": [
    "def lovely_soup(u):\n",
    "    page = requests.get(u)\n",
    "    return(BeautifulSoup(page.content, 'html.parser'))\n",
    "soup = lovely_soup(URL)\n",
    "timestamps = soup.findAll(\"span\", attrs = {\"data-testid\":\"post_timestamp\"})\n",
    "timestamps = [t.text for t in timestamps]\n",
    "print(timestamps)"
   ]
  },
  {
   "cell_type": "code",
   "execution_count": null,
   "id": "abd7f24e-ae1b-4740-8af5-852401bbae13",
   "metadata": {},
   "outputs": [],
   "source": []
  },
  {
   "cell_type": "markdown",
   "id": "269d9855",
   "metadata": {},
   "source": [
    "### Q2.B.) Using the functions findChild, descendents, etc. locate the post title and store in a list."
   ]
  },
  {
   "cell_type": "code",
   "execution_count": 12,
   "id": "f9dc56d9-1a24-4a64-bad7-000de4c951a1",
   "metadata": {},
   "outputs": [],
   "source": [
    "titles = [i.text for i in soup.findAll(\"h3\")]"
   ]
  },
  {
   "cell_type": "code",
   "execution_count": 13,
   "id": "c8c8493c-68c2-406f-acae-acee7a8ae012",
   "metadata": {},
   "outputs": [
    {
     "data": {
      "text/plain": [
       "['Why, just why.',\n",
       " 'Whats the best response to May the 4th be with you?',\n",
       " \"I'm 24, and I feel like a child masquerading as an adult most days. I'm just wondering, when do most people start feeling like proper adults?\",\n",
       " 'Chemichael Jackson',\n",
       " 'Why me? AI generated harassment 🤯',\n",
       " '\"there is no world where starfield is so good people sell their ps5 and move to xbox\" phil spencer says',\n",
       " 'American Polyglot surprises African Warrior Tribe with their language',\n",
       " 'Man Arrested After Opening Heroin, Cocaine, and Meth Store in Canada']"
      ]
     },
     "execution_count": 13,
     "metadata": {},
     "output_type": "execute_result"
    }
   ],
   "source": [
    "titles"
   ]
  },
  {
   "cell_type": "code",
   "execution_count": null,
   "id": "3c52ceb3-ac6a-4750-9371-85e14ef16e5c",
   "metadata": {},
   "outputs": [],
   "source": []
  },
  {
   "cell_type": "markdown",
   "id": "c6115ce9",
   "metadata": {},
   "source": [
    "### Q2.C.) Create a dataframe that has the associated title and post time for each post."
   ]
  },
  {
   "cell_type": "code",
   "execution_count": 14,
   "id": "e0b791b7",
   "metadata": {},
   "outputs": [],
   "source": [
    "d = {'title': titles, 'post time': timestamps}\n",
    "df = pd.DataFrame(data=d)"
   ]
  },
  {
   "cell_type": "code",
   "execution_count": 15,
   "id": "b603fe4e",
   "metadata": {},
   "outputs": [
    {
     "data": {
      "text/html": [
       "<div>\n",
       "<style scoped>\n",
       "    .dataframe tbody tr th:only-of-type {\n",
       "        vertical-align: middle;\n",
       "    }\n",
       "\n",
       "    .dataframe tbody tr th {\n",
       "        vertical-align: top;\n",
       "    }\n",
       "\n",
       "    .dataframe thead th {\n",
       "        text-align: right;\n",
       "    }\n",
       "</style>\n",
       "<table border=\"1\" class=\"dataframe\">\n",
       "  <thead>\n",
       "    <tr style=\"text-align: right;\">\n",
       "      <th></th>\n",
       "      <th>title</th>\n",
       "      <th>post time</th>\n",
       "    </tr>\n",
       "  </thead>\n",
       "  <tbody>\n",
       "    <tr>\n",
       "      <th>0</th>\n",
       "      <td>Why, just why.</td>\n",
       "      <td>10 hours ago</td>\n",
       "    </tr>\n",
       "    <tr>\n",
       "      <th>1</th>\n",
       "      <td>Whats the best response to May the 4th be with...</td>\n",
       "      <td>13 hours ago</td>\n",
       "    </tr>\n",
       "    <tr>\n",
       "      <th>2</th>\n",
       "      <td>I'm 24, and I feel like a child masquerading a...</td>\n",
       "      <td>10 hours ago</td>\n",
       "    </tr>\n",
       "    <tr>\n",
       "      <th>3</th>\n",
       "      <td>Chemichael Jackson</td>\n",
       "      <td>5 hours ago</td>\n",
       "    </tr>\n",
       "    <tr>\n",
       "      <th>4</th>\n",
       "      <td>Why me? AI generated harassment 🤯</td>\n",
       "      <td>11 hours ago</td>\n",
       "    </tr>\n",
       "    <tr>\n",
       "      <th>5</th>\n",
       "      <td>\"there is no world where starfield is so good ...</td>\n",
       "      <td>11 hours ago</td>\n",
       "    </tr>\n",
       "    <tr>\n",
       "      <th>6</th>\n",
       "      <td>American Polyglot surprises African Warrior Tr...</td>\n",
       "      <td>16 hours ago</td>\n",
       "    </tr>\n",
       "    <tr>\n",
       "      <th>7</th>\n",
       "      <td>Man Arrested After Opening Heroin, Cocaine, an...</td>\n",
       "      <td>4 hours ago</td>\n",
       "    </tr>\n",
       "  </tbody>\n",
       "</table>\n",
       "</div>"
      ],
      "text/plain": [
       "                                               title     post time\n",
       "0                                     Why, just why.  10 hours ago\n",
       "1  Whats the best response to May the 4th be with...  13 hours ago\n",
       "2  I'm 24, and I feel like a child masquerading a...  10 hours ago\n",
       "3                                 Chemichael Jackson   5 hours ago\n",
       "4                  Why me? AI generated harassment 🤯  11 hours ago\n",
       "5  \"there is no world where starfield is so good ...  11 hours ago\n",
       "6  American Polyglot surprises African Warrior Tr...  16 hours ago\n",
       "7  Man Arrested After Opening Heroin, Cocaine, an...   4 hours ago"
      ]
     },
     "execution_count": 15,
     "metadata": {},
     "output_type": "execute_result"
    }
   ],
   "source": [
    "df"
   ]
  },
  {
   "cell_type": "markdown",
   "id": "fd92ff4f",
   "metadata": {},
   "source": [
    "# Q3.) RegEx"
   ]
  },
  {
   "cell_type": "markdown",
   "id": "ecb63deb",
   "metadata": {},
   "source": [
    "### Q3.A.) Using RegEx, get all the urls of ladder faculty profiles for UCLA Economics"
   ]
  },
  {
   "cell_type": "code",
   "execution_count": 16,
   "id": "14f85363",
   "metadata": {},
   "outputs": [],
   "source": [
    "URL = \"https://economics.ucla.edu/faculty/ladder\""
   ]
  },
  {
   "cell_type": "code",
   "execution_count": 17,
   "id": "80e1ff92",
   "metadata": {},
   "outputs": [],
   "source": [
    "soup = lovely_soup(URL)"
   ]
  },
  {
   "cell_type": "code",
   "execution_count": 18,
   "id": "92fc0af7-9e1c-4745-86fa-46c66c2420ed",
   "metadata": {},
   "outputs": [],
   "source": [
    "text = str(soup)"
   ]
  },
  {
   "cell_type": "code",
   "execution_count": 19,
   "id": "898f854c-43ad-4c0f-ac3c-af51a3ff8001",
   "metadata": {},
   "outputs": [],
   "source": [
    "# pattern = re.compile(r'https://economics\\.ucla\\.edu/person/[^/]+\\/([^/]+)\\/')\n",
    "pattern = re.compile(r'https://economics\\.ucla\\.edu/person\\/[a-zA-Z]+\\-[a-zA-Z]*-?[a-zA-Z]*-?[a-zA-Z]+\\/')\n",
    "# pattern = re.compile(r'/[]+/')\n",
    "matches = pattern.finditer(text)\n",
    "matches = [match for match in matches]\n",
    "urlsLadder = [i[0] for i in matches]\n",
    "urlsLadder = list(set(urlsLadder))"
   ]
  },
  {
   "cell_type": "code",
   "execution_count": 20,
   "id": "208d02ce-5b11-41ce-af96-5fac368c1e64",
   "metadata": {},
   "outputs": [
    {
     "data": {
      "text/plain": [
       "['https://economics.ucla.edu/person/saki-bigio/',\n",
       " 'https://economics.ucla.edu/person/ariel-burstein/',\n",
       " 'https://economics.ucla.edu/person/andres-santos/',\n",
       " 'https://economics.ucla.edu/person/zhipeng-liao/',\n",
       " 'https://economics.ucla.edu/person/maurizio-mazzocco/',\n",
       " 'https://economics.ucla.edu/person/felipe-goncalves/',\n",
       " 'https://economics.ucla.edu/person/daniel-haanwinckel/',\n",
       " 'https://economics.ucla.edu/person/john-asker/',\n",
       " 'https://economics.ucla.edu/person/lee-e-ohanian/',\n",
       " 'https://economics.ucla.edu/person/sule-ozler/',\n",
       " 'https://economics.ucla.edu/person/michael-rubens/',\n",
       " 'https://economics.ucla.edu/person/till-von-wachter/',\n",
       " 'https://economics.ucla.edu/person/hugo-hopenhayn/',\n",
       " 'https://economics.ucla.edu/person/juliana-londono-velez/',\n",
       " 'https://economics.ucla.edu/person/michela-giorcelli/',\n",
       " 'https://economics.ucla.edu/person/ichiro-obara/',\n",
       " 'https://economics.ucla.edu/person/oleg-itskhoki/',\n",
       " 'https://economics.ucla.edu/person/rodrigo-pinto/',\n",
       " 'https://economics.ucla.edu/person/david-baqaee/',\n",
       " 'https://economics.ucla.edu/person/jay-lu/',\n",
       " 'https://economics.ucla.edu/person/shuyang-sheng/',\n",
       " 'https://economics.ucla.edu/person/bernardo-s-silveira/',\n",
       " 'https://economics.ucla.edu/person/andrew-atkeson/',\n",
       " 'https://economics.ucla.edu/person/simon-board/',\n",
       " 'https://economics.ucla.edu/person/alexander-bloedel/',\n",
       " 'https://economics.ucla.edu/person/aaron-tornell/',\n",
       " 'https://economics.ucla.edu/person/kathleen-mcgarry/',\n",
       " 'https://economics.ucla.edu/person/pablo-fajgelbaum/',\n",
       " 'https://economics.ucla.edu/person/moritz-meyer-ter-vehn/',\n",
       " 'https://economics.ucla.edu/person/jonathan-vogel/',\n",
       " 'https://economics.ucla.edu/person/denis-chetverikov/',\n",
       " 'https://economics.ucla.edu/person/francois-geerolf/',\n",
       " 'https://economics.ucla.edu/person/jinyong-hahn/',\n",
       " 'https://economics.ucla.edu/person/william-r-zame/',\n",
       " 'https://economics.ucla.edu/person/martin-b-hackmann/',\n",
       " 'https://economics.ucla.edu/person/tomasz-sadzik/',\n",
       " 'https://economics.ucla.edu/person/yotam-shem-tov/',\n",
       " 'https://economics.ucla.edu/person/pierre-olivier-weill/',\n",
       " 'https://economics.ucla.edu/person/natalie-bau/',\n",
       " 'https://economics.ucla.edu/person/dora-costa/',\n",
       " 'https://economics.ucla.edu/person/will-rafey/',\n",
       " 'https://economics.ucla.edu/person/martha-bailey/',\n",
       " 'https://economics.ucla.edu/person/gary-d-hansen/',\n",
       " 'https://economics.ucla.edu/person/adriana-lleras-muney/',\n",
       " 'https://economics.ucla.edu/person/rosa-liliana-matzkin/']"
      ]
     },
     "execution_count": 20,
     "metadata": {},
     "output_type": "execute_result"
    }
   ],
   "source": [
    "urlsLadder"
   ]
  },
  {
   "cell_type": "code",
   "execution_count": 21,
   "id": "7aaf7fb7-9769-492e-b3b2-25cdd0ed771a",
   "metadata": {},
   "outputs": [
    {
     "data": {
      "text/plain": [
       "45"
      ]
     },
     "execution_count": 21,
     "metadata": {},
     "output_type": "execute_result"
    }
   ],
   "source": [
    "len(urlsLadder)"
   ]
  },
  {
   "cell_type": "code",
   "execution_count": null,
   "id": "6ec51fad-3af5-4781-9a8e-9d14d923b2bd",
   "metadata": {},
   "outputs": [],
   "source": []
  },
  {
   "cell_type": "markdown",
   "id": "633e5c6f",
   "metadata": {},
   "source": [
    "### Q3.B.) Webcrawl the links from A and use RegEx to get all the emails and phone numbers of ladder faculty profiles"
   ]
  },
  {
   "cell_type": "code",
   "execution_count": 22,
   "id": "00d8b585-d72b-4953-b5de-1c98a884574e",
   "metadata": {},
   "outputs": [
    {
     "name": "stdout",
     "output_type": "stream",
     "text": [
      "sbigio@econ.ucla.edu (310) 825-9397\n",
      "arielb@econ.ucla.edu (310) 206-6732\n",
      "andres@econ.ucla.edu nan\n",
      "liao@econ.ucla.edu (310) 794-5427\n",
      "mmazzocc@econ.ucla.edu (310) 825-6682\n",
      "fgoncalves@econ.ucla.edu nan\n",
      "haanwinckel@econ.ucla.edu nan\n",
      "johnasker@econ.ucla.edu nan\n",
      "ohanian@econ.ucla.edu (310) 825-0979\n",
      "ozler@econ.ucla.edu (310) 206-6031\n",
      "webmaster@econ.ucla.edu nan\n",
      "tvwachter@econ.ucla.edu (310) 825-5665\n",
      "hopen@econ.ucla.edu (310) 206-8896\n",
      "londonovelez@econ.ucla.edu nan\n",
      "mgiorcelli@econ.ucla.edu (310) 825-1011\n",
      "iobara@econ.ucla.edu (310) 794-7098\n",
      "itskhoki@econ.ucla.edu nan\n",
      "rodrig@econ.ucla.edu (310) 825-0849\n",
      "baqaee@econ.ucla.edu nan\n",
      "jay@econ.ucla.edu (310) 825-7380\n",
      "ssheng@econ.ucla.edu (310) 825-8018\n",
      "silveira@econ.ucla.edu nan\n",
      "webmaster@econ.ucla.edu nan\n",
      "sboard@econ.ucla.edu (310) 825-5304\n",
      "abloedel@econ.ucla.edu nan\n",
      "tornell@econ.ucla.edu (310) 794-1686\n",
      "webmaster@econ.ucla.edu (310) 825-1011\n",
      "pfajgelbaum@econ.ucla.edu (310) 794-7241\n",
      "mtv@econ.ucla.edu nan\n",
      "jvogel@econ.ucla.edu nan\n",
      "chetverikov@econ.ucla.edu (310) 825-4521\n",
      "fgeerolf@econ.ucla.edu (310) 794-5342\n",
      "hahn@econ.ucla.edu (310) 825-2523\n",
      "zame@econ.ucla.edu (310) 206-9463\n",
      "hackmann@econ.ucla.edu (310) 825-1011\n",
      "tsadzik@econ.ucla.edu (310) 206-2833\n",
      "shemtov@econ.ucla.edu nan\n",
      "poweill@econ.ucla.edu (310) 794-6495\n",
      "webmaster@econ.ucla.edu nan\n",
      "costa@econ.ucla.edu (310) 825-4249\n",
      "rafey@econ.ucla.edu nan\n",
      "webmaster@econ.ucla.edu nan\n",
      "ghansen@econ.ucla.edu (310) 825-3847\n",
      "alleras@econ.ucla.edu (310) 825-3925\n",
      "matzkin@econ.ucla.edu (310) 825-7371\n"
     ]
    }
   ],
   "source": [
    "emails = []\n",
    "phones = []\n",
    "for url in urlsLadder:\n",
    "    soup = lovely_soup(url)\n",
    "    text = str(soup)\n",
    "    pattern = re.compile(r'[a-zA-Z]+@econ\\.ucla\\.edu')\n",
    "    matches = pattern.finditer(text)\n",
    "    email = [match for match in matches][0][0]\n",
    "    pattern = re.compile(r'\\([0-9]{3}\\) [0-9]{3}\\-[0-9]{4}')\n",
    "    matches = pattern.finditer(text)\n",
    "    matches = [match for match in matches]\n",
    "    if len(matches) != 0:\n",
    "        phone = [match for match in matches][0][0]\n",
    "    else:\n",
    "        phone = np.nan\n",
    "    emails.append(email)\n",
    "    phones.append(phone)\n",
    "    print(email, phone)"
   ]
  },
  {
   "cell_type": "code",
   "execution_count": 23,
   "id": "c398c83d-04a2-4d88-9498-2fd96b508a81",
   "metadata": {},
   "outputs": [],
   "source": [
    "d = {\"links\": urlsLadder, \"emails\": emails, \"phones\": phones}\n",
    "dfLadder = pd.DataFrame(data = d)"
   ]
  },
  {
   "cell_type": "code",
   "execution_count": 24,
   "id": "27447c64-e3d4-449c-8efd-5a69bf767753",
   "metadata": {},
   "outputs": [
    {
     "data": {
      "text/html": [
       "<div>\n",
       "<style scoped>\n",
       "    .dataframe tbody tr th:only-of-type {\n",
       "        vertical-align: middle;\n",
       "    }\n",
       "\n",
       "    .dataframe tbody tr th {\n",
       "        vertical-align: top;\n",
       "    }\n",
       "\n",
       "    .dataframe thead th {\n",
       "        text-align: right;\n",
       "    }\n",
       "</style>\n",
       "<table border=\"1\" class=\"dataframe\">\n",
       "  <thead>\n",
       "    <tr style=\"text-align: right;\">\n",
       "      <th></th>\n",
       "      <th>links</th>\n",
       "      <th>emails</th>\n",
       "      <th>phones</th>\n",
       "    </tr>\n",
       "  </thead>\n",
       "  <tbody>\n",
       "    <tr>\n",
       "      <th>0</th>\n",
       "      <td>https://economics.ucla.edu/person/saki-bigio/</td>\n",
       "      <td>sbigio@econ.ucla.edu</td>\n",
       "      <td>(310) 825-9397</td>\n",
       "    </tr>\n",
       "    <tr>\n",
       "      <th>1</th>\n",
       "      <td>https://economics.ucla.edu/person/ariel-burstein/</td>\n",
       "      <td>arielb@econ.ucla.edu</td>\n",
       "      <td>(310) 206-6732</td>\n",
       "    </tr>\n",
       "    <tr>\n",
       "      <th>2</th>\n",
       "      <td>https://economics.ucla.edu/person/andres-santos/</td>\n",
       "      <td>andres@econ.ucla.edu</td>\n",
       "      <td>NaN</td>\n",
       "    </tr>\n",
       "    <tr>\n",
       "      <th>3</th>\n",
       "      <td>https://economics.ucla.edu/person/zhipeng-liao/</td>\n",
       "      <td>liao@econ.ucla.edu</td>\n",
       "      <td>(310) 794-5427</td>\n",
       "    </tr>\n",
       "    <tr>\n",
       "      <th>4</th>\n",
       "      <td>https://economics.ucla.edu/person/maurizio-maz...</td>\n",
       "      <td>mmazzocc@econ.ucla.edu</td>\n",
       "      <td>(310) 825-6682</td>\n",
       "    </tr>\n",
       "    <tr>\n",
       "      <th>5</th>\n",
       "      <td>https://economics.ucla.edu/person/felipe-gonca...</td>\n",
       "      <td>fgoncalves@econ.ucla.edu</td>\n",
       "      <td>NaN</td>\n",
       "    </tr>\n",
       "    <tr>\n",
       "      <th>6</th>\n",
       "      <td>https://economics.ucla.edu/person/daniel-haanw...</td>\n",
       "      <td>haanwinckel@econ.ucla.edu</td>\n",
       "      <td>NaN</td>\n",
       "    </tr>\n",
       "    <tr>\n",
       "      <th>7</th>\n",
       "      <td>https://economics.ucla.edu/person/john-asker/</td>\n",
       "      <td>johnasker@econ.ucla.edu</td>\n",
       "      <td>NaN</td>\n",
       "    </tr>\n",
       "    <tr>\n",
       "      <th>8</th>\n",
       "      <td>https://economics.ucla.edu/person/lee-e-ohanian/</td>\n",
       "      <td>ohanian@econ.ucla.edu</td>\n",
       "      <td>(310) 825-0979</td>\n",
       "    </tr>\n",
       "    <tr>\n",
       "      <th>9</th>\n",
       "      <td>https://economics.ucla.edu/person/sule-ozler/</td>\n",
       "      <td>ozler@econ.ucla.edu</td>\n",
       "      <td>(310) 206-6031</td>\n",
       "    </tr>\n",
       "    <tr>\n",
       "      <th>10</th>\n",
       "      <td>https://economics.ucla.edu/person/michael-rubens/</td>\n",
       "      <td>webmaster@econ.ucla.edu</td>\n",
       "      <td>NaN</td>\n",
       "    </tr>\n",
       "    <tr>\n",
       "      <th>11</th>\n",
       "      <td>https://economics.ucla.edu/person/till-von-wac...</td>\n",
       "      <td>tvwachter@econ.ucla.edu</td>\n",
       "      <td>(310) 825-5665</td>\n",
       "    </tr>\n",
       "    <tr>\n",
       "      <th>12</th>\n",
       "      <td>https://economics.ucla.edu/person/hugo-hopenhayn/</td>\n",
       "      <td>hopen@econ.ucla.edu</td>\n",
       "      <td>(310) 206-8896</td>\n",
       "    </tr>\n",
       "    <tr>\n",
       "      <th>13</th>\n",
       "      <td>https://economics.ucla.edu/person/juliana-lond...</td>\n",
       "      <td>londonovelez@econ.ucla.edu</td>\n",
       "      <td>NaN</td>\n",
       "    </tr>\n",
       "    <tr>\n",
       "      <th>14</th>\n",
       "      <td>https://economics.ucla.edu/person/michela-gior...</td>\n",
       "      <td>mgiorcelli@econ.ucla.edu</td>\n",
       "      <td>(310) 825-1011</td>\n",
       "    </tr>\n",
       "    <tr>\n",
       "      <th>15</th>\n",
       "      <td>https://economics.ucla.edu/person/ichiro-obara/</td>\n",
       "      <td>iobara@econ.ucla.edu</td>\n",
       "      <td>(310) 794-7098</td>\n",
       "    </tr>\n",
       "    <tr>\n",
       "      <th>16</th>\n",
       "      <td>https://economics.ucla.edu/person/oleg-itskhoki/</td>\n",
       "      <td>itskhoki@econ.ucla.edu</td>\n",
       "      <td>NaN</td>\n",
       "    </tr>\n",
       "    <tr>\n",
       "      <th>17</th>\n",
       "      <td>https://economics.ucla.edu/person/rodrigo-pinto/</td>\n",
       "      <td>rodrig@econ.ucla.edu</td>\n",
       "      <td>(310) 825-0849</td>\n",
       "    </tr>\n",
       "    <tr>\n",
       "      <th>18</th>\n",
       "      <td>https://economics.ucla.edu/person/david-baqaee/</td>\n",
       "      <td>baqaee@econ.ucla.edu</td>\n",
       "      <td>NaN</td>\n",
       "    </tr>\n",
       "    <tr>\n",
       "      <th>19</th>\n",
       "      <td>https://economics.ucla.edu/person/jay-lu/</td>\n",
       "      <td>jay@econ.ucla.edu</td>\n",
       "      <td>(310) 825-7380</td>\n",
       "    </tr>\n",
       "    <tr>\n",
       "      <th>20</th>\n",
       "      <td>https://economics.ucla.edu/person/shuyang-sheng/</td>\n",
       "      <td>ssheng@econ.ucla.edu</td>\n",
       "      <td>(310) 825-8018</td>\n",
       "    </tr>\n",
       "    <tr>\n",
       "      <th>21</th>\n",
       "      <td>https://economics.ucla.edu/person/bernardo-s-s...</td>\n",
       "      <td>silveira@econ.ucla.edu</td>\n",
       "      <td>NaN</td>\n",
       "    </tr>\n",
       "    <tr>\n",
       "      <th>22</th>\n",
       "      <td>https://economics.ucla.edu/person/andrew-atkeson/</td>\n",
       "      <td>webmaster@econ.ucla.edu</td>\n",
       "      <td>NaN</td>\n",
       "    </tr>\n",
       "    <tr>\n",
       "      <th>23</th>\n",
       "      <td>https://economics.ucla.edu/person/simon-board/</td>\n",
       "      <td>sboard@econ.ucla.edu</td>\n",
       "      <td>(310) 825-5304</td>\n",
       "    </tr>\n",
       "    <tr>\n",
       "      <th>24</th>\n",
       "      <td>https://economics.ucla.edu/person/alexander-bl...</td>\n",
       "      <td>abloedel@econ.ucla.edu</td>\n",
       "      <td>NaN</td>\n",
       "    </tr>\n",
       "    <tr>\n",
       "      <th>25</th>\n",
       "      <td>https://economics.ucla.edu/person/aaron-tornell/</td>\n",
       "      <td>tornell@econ.ucla.edu</td>\n",
       "      <td>(310) 794-1686</td>\n",
       "    </tr>\n",
       "    <tr>\n",
       "      <th>26</th>\n",
       "      <td>https://economics.ucla.edu/person/kathleen-mcg...</td>\n",
       "      <td>webmaster@econ.ucla.edu</td>\n",
       "      <td>(310) 825-1011</td>\n",
       "    </tr>\n",
       "    <tr>\n",
       "      <th>27</th>\n",
       "      <td>https://economics.ucla.edu/person/pablo-fajgel...</td>\n",
       "      <td>pfajgelbaum@econ.ucla.edu</td>\n",
       "      <td>(310) 794-7241</td>\n",
       "    </tr>\n",
       "    <tr>\n",
       "      <th>28</th>\n",
       "      <td>https://economics.ucla.edu/person/moritz-meyer...</td>\n",
       "      <td>mtv@econ.ucla.edu</td>\n",
       "      <td>NaN</td>\n",
       "    </tr>\n",
       "    <tr>\n",
       "      <th>29</th>\n",
       "      <td>https://economics.ucla.edu/person/jonathan-vogel/</td>\n",
       "      <td>jvogel@econ.ucla.edu</td>\n",
       "      <td>NaN</td>\n",
       "    </tr>\n",
       "    <tr>\n",
       "      <th>30</th>\n",
       "      <td>https://economics.ucla.edu/person/denis-chetve...</td>\n",
       "      <td>chetverikov@econ.ucla.edu</td>\n",
       "      <td>(310) 825-4521</td>\n",
       "    </tr>\n",
       "    <tr>\n",
       "      <th>31</th>\n",
       "      <td>https://economics.ucla.edu/person/francois-gee...</td>\n",
       "      <td>fgeerolf@econ.ucla.edu</td>\n",
       "      <td>(310) 794-5342</td>\n",
       "    </tr>\n",
       "    <tr>\n",
       "      <th>32</th>\n",
       "      <td>https://economics.ucla.edu/person/jinyong-hahn/</td>\n",
       "      <td>hahn@econ.ucla.edu</td>\n",
       "      <td>(310) 825-2523</td>\n",
       "    </tr>\n",
       "    <tr>\n",
       "      <th>33</th>\n",
       "      <td>https://economics.ucla.edu/person/william-r-zame/</td>\n",
       "      <td>zame@econ.ucla.edu</td>\n",
       "      <td>(310) 206-9463</td>\n",
       "    </tr>\n",
       "    <tr>\n",
       "      <th>34</th>\n",
       "      <td>https://economics.ucla.edu/person/martin-b-hac...</td>\n",
       "      <td>hackmann@econ.ucla.edu</td>\n",
       "      <td>(310) 825-1011</td>\n",
       "    </tr>\n",
       "    <tr>\n",
       "      <th>35</th>\n",
       "      <td>https://economics.ucla.edu/person/tomasz-sadzik/</td>\n",
       "      <td>tsadzik@econ.ucla.edu</td>\n",
       "      <td>(310) 206-2833</td>\n",
       "    </tr>\n",
       "    <tr>\n",
       "      <th>36</th>\n",
       "      <td>https://economics.ucla.edu/person/yotam-shem-tov/</td>\n",
       "      <td>shemtov@econ.ucla.edu</td>\n",
       "      <td>NaN</td>\n",
       "    </tr>\n",
       "    <tr>\n",
       "      <th>37</th>\n",
       "      <td>https://economics.ucla.edu/person/pierre-olivi...</td>\n",
       "      <td>poweill@econ.ucla.edu</td>\n",
       "      <td>(310) 794-6495</td>\n",
       "    </tr>\n",
       "    <tr>\n",
       "      <th>38</th>\n",
       "      <td>https://economics.ucla.edu/person/natalie-bau/</td>\n",
       "      <td>webmaster@econ.ucla.edu</td>\n",
       "      <td>NaN</td>\n",
       "    </tr>\n",
       "    <tr>\n",
       "      <th>39</th>\n",
       "      <td>https://economics.ucla.edu/person/dora-costa/</td>\n",
       "      <td>costa@econ.ucla.edu</td>\n",
       "      <td>(310) 825-4249</td>\n",
       "    </tr>\n",
       "    <tr>\n",
       "      <th>40</th>\n",
       "      <td>https://economics.ucla.edu/person/will-rafey/</td>\n",
       "      <td>rafey@econ.ucla.edu</td>\n",
       "      <td>NaN</td>\n",
       "    </tr>\n",
       "    <tr>\n",
       "      <th>41</th>\n",
       "      <td>https://economics.ucla.edu/person/martha-bailey/</td>\n",
       "      <td>webmaster@econ.ucla.edu</td>\n",
       "      <td>NaN</td>\n",
       "    </tr>\n",
       "    <tr>\n",
       "      <th>42</th>\n",
       "      <td>https://economics.ucla.edu/person/gary-d-hansen/</td>\n",
       "      <td>ghansen@econ.ucla.edu</td>\n",
       "      <td>(310) 825-3847</td>\n",
       "    </tr>\n",
       "    <tr>\n",
       "      <th>43</th>\n",
       "      <td>https://economics.ucla.edu/person/adriana-ller...</td>\n",
       "      <td>alleras@econ.ucla.edu</td>\n",
       "      <td>(310) 825-3925</td>\n",
       "    </tr>\n",
       "    <tr>\n",
       "      <th>44</th>\n",
       "      <td>https://economics.ucla.edu/person/rosa-liliana...</td>\n",
       "      <td>matzkin@econ.ucla.edu</td>\n",
       "      <td>(310) 825-7371</td>\n",
       "    </tr>\n",
       "  </tbody>\n",
       "</table>\n",
       "</div>"
      ],
      "text/plain": [
       "                                                links  \\\n",
       "0       https://economics.ucla.edu/person/saki-bigio/   \n",
       "1   https://economics.ucla.edu/person/ariel-burstein/   \n",
       "2    https://economics.ucla.edu/person/andres-santos/   \n",
       "3     https://economics.ucla.edu/person/zhipeng-liao/   \n",
       "4   https://economics.ucla.edu/person/maurizio-maz...   \n",
       "5   https://economics.ucla.edu/person/felipe-gonca...   \n",
       "6   https://economics.ucla.edu/person/daniel-haanw...   \n",
       "7       https://economics.ucla.edu/person/john-asker/   \n",
       "8    https://economics.ucla.edu/person/lee-e-ohanian/   \n",
       "9       https://economics.ucla.edu/person/sule-ozler/   \n",
       "10  https://economics.ucla.edu/person/michael-rubens/   \n",
       "11  https://economics.ucla.edu/person/till-von-wac...   \n",
       "12  https://economics.ucla.edu/person/hugo-hopenhayn/   \n",
       "13  https://economics.ucla.edu/person/juliana-lond...   \n",
       "14  https://economics.ucla.edu/person/michela-gior...   \n",
       "15    https://economics.ucla.edu/person/ichiro-obara/   \n",
       "16   https://economics.ucla.edu/person/oleg-itskhoki/   \n",
       "17   https://economics.ucla.edu/person/rodrigo-pinto/   \n",
       "18    https://economics.ucla.edu/person/david-baqaee/   \n",
       "19          https://economics.ucla.edu/person/jay-lu/   \n",
       "20   https://economics.ucla.edu/person/shuyang-sheng/   \n",
       "21  https://economics.ucla.edu/person/bernardo-s-s...   \n",
       "22  https://economics.ucla.edu/person/andrew-atkeson/   \n",
       "23     https://economics.ucla.edu/person/simon-board/   \n",
       "24  https://economics.ucla.edu/person/alexander-bl...   \n",
       "25   https://economics.ucla.edu/person/aaron-tornell/   \n",
       "26  https://economics.ucla.edu/person/kathleen-mcg...   \n",
       "27  https://economics.ucla.edu/person/pablo-fajgel...   \n",
       "28  https://economics.ucla.edu/person/moritz-meyer...   \n",
       "29  https://economics.ucla.edu/person/jonathan-vogel/   \n",
       "30  https://economics.ucla.edu/person/denis-chetve...   \n",
       "31  https://economics.ucla.edu/person/francois-gee...   \n",
       "32    https://economics.ucla.edu/person/jinyong-hahn/   \n",
       "33  https://economics.ucla.edu/person/william-r-zame/   \n",
       "34  https://economics.ucla.edu/person/martin-b-hac...   \n",
       "35   https://economics.ucla.edu/person/tomasz-sadzik/   \n",
       "36  https://economics.ucla.edu/person/yotam-shem-tov/   \n",
       "37  https://economics.ucla.edu/person/pierre-olivi...   \n",
       "38     https://economics.ucla.edu/person/natalie-bau/   \n",
       "39      https://economics.ucla.edu/person/dora-costa/   \n",
       "40      https://economics.ucla.edu/person/will-rafey/   \n",
       "41   https://economics.ucla.edu/person/martha-bailey/   \n",
       "42   https://economics.ucla.edu/person/gary-d-hansen/   \n",
       "43  https://economics.ucla.edu/person/adriana-ller...   \n",
       "44  https://economics.ucla.edu/person/rosa-liliana...   \n",
       "\n",
       "                        emails          phones  \n",
       "0         sbigio@econ.ucla.edu  (310) 825-9397  \n",
       "1         arielb@econ.ucla.edu  (310) 206-6732  \n",
       "2         andres@econ.ucla.edu             NaN  \n",
       "3           liao@econ.ucla.edu  (310) 794-5427  \n",
       "4       mmazzocc@econ.ucla.edu  (310) 825-6682  \n",
       "5     fgoncalves@econ.ucla.edu             NaN  \n",
       "6    haanwinckel@econ.ucla.edu             NaN  \n",
       "7      johnasker@econ.ucla.edu             NaN  \n",
       "8        ohanian@econ.ucla.edu  (310) 825-0979  \n",
       "9          ozler@econ.ucla.edu  (310) 206-6031  \n",
       "10     webmaster@econ.ucla.edu             NaN  \n",
       "11     tvwachter@econ.ucla.edu  (310) 825-5665  \n",
       "12         hopen@econ.ucla.edu  (310) 206-8896  \n",
       "13  londonovelez@econ.ucla.edu             NaN  \n",
       "14    mgiorcelli@econ.ucla.edu  (310) 825-1011  \n",
       "15        iobara@econ.ucla.edu  (310) 794-7098  \n",
       "16      itskhoki@econ.ucla.edu             NaN  \n",
       "17        rodrig@econ.ucla.edu  (310) 825-0849  \n",
       "18        baqaee@econ.ucla.edu             NaN  \n",
       "19           jay@econ.ucla.edu  (310) 825-7380  \n",
       "20        ssheng@econ.ucla.edu  (310) 825-8018  \n",
       "21      silveira@econ.ucla.edu             NaN  \n",
       "22     webmaster@econ.ucla.edu             NaN  \n",
       "23        sboard@econ.ucla.edu  (310) 825-5304  \n",
       "24      abloedel@econ.ucla.edu             NaN  \n",
       "25       tornell@econ.ucla.edu  (310) 794-1686  \n",
       "26     webmaster@econ.ucla.edu  (310) 825-1011  \n",
       "27   pfajgelbaum@econ.ucla.edu  (310) 794-7241  \n",
       "28           mtv@econ.ucla.edu             NaN  \n",
       "29        jvogel@econ.ucla.edu             NaN  \n",
       "30   chetverikov@econ.ucla.edu  (310) 825-4521  \n",
       "31      fgeerolf@econ.ucla.edu  (310) 794-5342  \n",
       "32          hahn@econ.ucla.edu  (310) 825-2523  \n",
       "33          zame@econ.ucla.edu  (310) 206-9463  \n",
       "34      hackmann@econ.ucla.edu  (310) 825-1011  \n",
       "35       tsadzik@econ.ucla.edu  (310) 206-2833  \n",
       "36       shemtov@econ.ucla.edu             NaN  \n",
       "37       poweill@econ.ucla.edu  (310) 794-6495  \n",
       "38     webmaster@econ.ucla.edu             NaN  \n",
       "39         costa@econ.ucla.edu  (310) 825-4249  \n",
       "40         rafey@econ.ucla.edu             NaN  \n",
       "41     webmaster@econ.ucla.edu             NaN  \n",
       "42       ghansen@econ.ucla.edu  (310) 825-3847  \n",
       "43       alleras@econ.ucla.edu  (310) 825-3925  \n",
       "44       matzkin@econ.ucla.edu  (310) 825-7371  "
      ]
     },
     "execution_count": 24,
     "metadata": {},
     "output_type": "execute_result"
    }
   ],
   "source": [
    "dfLadder"
   ]
  },
  {
   "cell_type": "code",
   "execution_count": null,
   "id": "34b2f0d0-fd79-4a66-8358-431afe532f7d",
   "metadata": {},
   "outputs": [],
   "source": []
  },
  {
   "cell_type": "markdown",
   "id": "effefb68",
   "metadata": {},
   "source": [
    "# Q4.) Selenium"
   ]
  },
  {
   "cell_type": "markdown",
   "id": "9d571a9c",
   "metadata": {},
   "source": [
    "### Q4.A.) Pick a website that has useful data to a business or economic question. Put your website you plan to scrape here : https://docs.google.com/spreadsheets/d/1yZTCktXhj7vT40HsITRQI_9FFZ-QIovSv4UZP9w67iI/edit?usp=sharing\n",
    "### You must have use website that no other group has. First come first serve "
   ]
  },
  {
   "cell_type": "code",
   "execution_count": 25,
   "id": "0b358133-3c6c-4fae-8db8-66752c8f8c2a",
   "metadata": {},
   "outputs": [],
   "source": [
    "import selenium\n",
    "from selenium import webdriver\n",
    "from selenium.webdriver.common.keys import Keys\n",
    "from selenium.webdriver.common.by import By\n",
    "from selenium.webdriver.support.ui import WebDriverWait\n",
    "from selenium.webdriver.support import expected_conditions as EC"
   ]
  },
  {
   "cell_type": "code",
   "execution_count": 26,
   "id": "3505d8be-cb5f-4d22-8284-1e1809ec0aea",
   "metadata": {},
   "outputs": [],
   "source": [
    "URL = \"https://flightaware.com/live/fleet/\""
   ]
  },
  {
   "cell_type": "markdown",
   "id": "73399b19",
   "metadata": {},
   "source": [
    "### Q4.B.) Use Selenium to scrape valuable information from your website and store in a dataframe."
   ]
  },
  {
   "cell_type": "code",
   "execution_count": 27,
   "id": "61d776ac",
   "metadata": {},
   "outputs": [],
   "source": [
    "PATH = '/Users/lizheng/Downloads/chromedriver_mac_arm64/chromedriver'"
   ]
  },
  {
   "cell_type": "code",
   "execution_count": 28,
   "id": "ba13bf01",
   "metadata": {},
   "outputs": [
    {
     "name": "stderr",
     "output_type": "stream",
     "text": [
      "/var/folders/h5/xy66q_8n5m91xb6gg__86s3c0000gn/T/ipykernel_63319/1505389030.py:1: DeprecationWarning: executable_path has been deprecated, please pass in a Service object\n",
      "  driver = webdriver.Chrome(PATH)\n"
     ]
    }
   ],
   "source": [
    "driver = webdriver.Chrome(PATH)\n",
    "driver.get(URL)"
   ]
  },
  {
   "cell_type": "code",
   "execution_count": 29,
   "id": "fe0c2d10-c954-4086-a9aa-4324c21ee436",
   "metadata": {},
   "outputs": [],
   "source": [
    "# element = WebDriverWait(driver, 10).until(EC.presence_of_element_located((By.LINK_TEXT, \"Flight Tracking\")))\n",
    "# element.click()\n",
    "table = driver.find_element(By.CLASS_NAME, \"prettyTable\").get_attribute(\"outerHTML\")"
   ]
  },
  {
   "cell_type": "code",
   "execution_count": 30,
   "id": "a7e0d85d-b770-4ff3-85d0-9f41caea3598",
   "metadata": {},
   "outputs": [],
   "source": [
    "df = pd.read_html(table)[0]"
   ]
  },
  {
   "cell_type": "code",
   "execution_count": 31,
   "id": "bc0cb12a-092a-475a-bded-40daec07bdee",
   "metadata": {},
   "outputs": [
    {
     "data": {
      "text/html": [
       "<div>\n",
       "<style scoped>\n",
       "    .dataframe tbody tr th:only-of-type {\n",
       "        vertical-align: middle;\n",
       "    }\n",
       "\n",
       "    .dataframe tbody tr th {\n",
       "        vertical-align: top;\n",
       "    }\n",
       "\n",
       "    .dataframe thead tr th {\n",
       "        text-align: left;\n",
       "    }\n",
       "</style>\n",
       "<table border=\"1\" class=\"dataframe\">\n",
       "  <thead>\n",
       "    <tr>\n",
       "      <th></th>\n",
       "      <th colspan=\"3\" halign=\"left\">Airborne Aircraft (Entire Airline/Operator Fleet)</th>\n",
       "    </tr>\n",
       "    <tr>\n",
       "      <th></th>\n",
       "      <th># of Flights</th>\n",
       "      <th>Prefix</th>\n",
       "      <th>Airline/Operator</th>\n",
       "    </tr>\n",
       "  </thead>\n",
       "  <tbody>\n",
       "    <tr>\n",
       "      <th>0</th>\n",
       "      <td>385</td>\n",
       "      <td>UAL</td>\n",
       "      <td>United \"United\"</td>\n",
       "    </tr>\n",
       "    <tr>\n",
       "      <th>1</th>\n",
       "      <td>360</td>\n",
       "      <td>DAL</td>\n",
       "      <td>Delta \"Delta\"</td>\n",
       "    </tr>\n",
       "    <tr>\n",
       "      <th>2</th>\n",
       "      <td>337</td>\n",
       "      <td>SWA</td>\n",
       "      <td>Southwest \"Southwest\" (Dallas, TX)</td>\n",
       "    </tr>\n",
       "    <tr>\n",
       "      <th>3</th>\n",
       "      <td>334</td>\n",
       "      <td>AAL</td>\n",
       "      <td>American Airlines \"American\"</td>\n",
       "    </tr>\n",
       "    <tr>\n",
       "      <th>4</th>\n",
       "      <td>293</td>\n",
       "      <td>CSN</td>\n",
       "      <td>China Southern Airlines \"China Southern\" (China)</td>\n",
       "    </tr>\n",
       "    <tr>\n",
       "      <th>...</th>\n",
       "      <td>...</td>\n",
       "      <td>...</td>\n",
       "      <td>...</td>\n",
       "    </tr>\n",
       "    <tr>\n",
       "      <th>733</th>\n",
       "      <td>1</td>\n",
       "      <td>VLG</td>\n",
       "      <td>Vueling Airlines \"Vueling\" (Spain)</td>\n",
       "    </tr>\n",
       "    <tr>\n",
       "      <th>734</th>\n",
       "      <td>1</td>\n",
       "      <td>AHX</td>\n",
       "      <td>Amakusa Airlines \"Amakusa Air\"</td>\n",
       "    </tr>\n",
       "    <tr>\n",
       "      <th>735</th>\n",
       "      <td>1</td>\n",
       "      <td>XAB</td>\n",
       "      <td>Xabre Aerolineas de C.V. \"Aero Xabre\"</td>\n",
       "    </tr>\n",
       "    <tr>\n",
       "      <th>736</th>\n",
       "      <td>1</td>\n",
       "      <td>IBX</td>\n",
       "      <td>Ibex \"Ibex\"</td>\n",
       "    </tr>\n",
       "    <tr>\n",
       "      <th>737</th>\n",
       "      <td>1</td>\n",
       "      <td>SPT</td>\n",
       "      <td>Bengis Aviation \"Sprint\"</td>\n",
       "    </tr>\n",
       "  </tbody>\n",
       "</table>\n",
       "<p>738 rows × 3 columns</p>\n",
       "</div>"
      ],
      "text/plain": [
       "    Airborne Aircraft (Entire Airline/Operator Fleet)         \\\n",
       "                                         # of Flights Prefix   \n",
       "0                                                 385    UAL   \n",
       "1                                                 360    DAL   \n",
       "2                                                 337    SWA   \n",
       "3                                                 334    AAL   \n",
       "4                                                 293    CSN   \n",
       "..                                                ...    ...   \n",
       "733                                                 1    VLG   \n",
       "734                                                 1    AHX   \n",
       "735                                                 1    XAB   \n",
       "736                                                 1    IBX   \n",
       "737                                                 1    SPT   \n",
       "\n",
       "                                                       \n",
       "                                     Airline/Operator  \n",
       "0                                     United \"United\"  \n",
       "1                                       Delta \"Delta\"  \n",
       "2                  Southwest \"Southwest\" (Dallas, TX)  \n",
       "3                        American Airlines \"American\"  \n",
       "4    China Southern Airlines \"China Southern\" (China)  \n",
       "..                                                ...  \n",
       "733                Vueling Airlines \"Vueling\" (Spain)  \n",
       "734                    Amakusa Airlines \"Amakusa Air\"  \n",
       "735             Xabre Aerolineas de C.V. \"Aero Xabre\"  \n",
       "736                                       Ibex \"Ibex\"  \n",
       "737                          Bengis Aviation \"Sprint\"  \n",
       "\n",
       "[738 rows x 3 columns]"
      ]
     },
     "execution_count": 31,
     "metadata": {},
     "output_type": "execute_result"
    }
   ],
   "source": [
    "df"
   ]
  },
  {
   "cell_type": "code",
   "execution_count": 32,
   "id": "761c440e-3fa8-4d32-9162-80a1ace9ab62",
   "metadata": {},
   "outputs": [],
   "source": [
    "driver.close()\n",
    "driver.quit()"
   ]
  },
  {
   "cell_type": "code",
   "execution_count": null,
   "id": "ec581082-792e-446c-8700-45d75e538469",
   "metadata": {},
   "outputs": [],
   "source": []
  },
  {
   "cell_type": "markdown",
   "id": "5448ae29",
   "metadata": {},
   "source": [
    "### Q4.C.) Write a short paragraph about the businesses or research that would use the data you scraped. Descrivbe it's value and what it can be used for."
   ]
  },
  {
   "cell_type": "markdown",
   "id": "3971bf48-c6ef-4adb-a1da-379c60218549",
   "metadata": {},
   "source": [
    "### The data I scraped is the real time number of different Airlines that are currently in the air for operation. The website also offers the real time data in terms of airport and aircraft type. This data can be valuable for researchers who want to study the effect of air transport on the international economics and may also be used as an important indicator for predicting a national's GDP. And due to the reason that the data itself is real time, people can scrape the data multiple times a day to analyze each airline's opearation status and therefore maybe develop a trading model upon this."
   ]
  },
  {
   "cell_type": "code",
   "execution_count": null,
   "id": "17a6b0ff",
   "metadata": {},
   "outputs": [],
   "source": []
  }
 ],
 "metadata": {
  "kernelspec": {
   "display_name": "Python 3 (ipykernel)",
   "language": "python",
   "name": "python3"
  },
  "language_info": {
   "codemirror_mode": {
    "name": "ipython",
    "version": 3
   },
   "file_extension": ".py",
   "mimetype": "text/x-python",
   "name": "python",
   "nbconvert_exporter": "python",
   "pygments_lexer": "ipython3",
   "version": "3.9.13"
  }
 },
 "nbformat": 4,
 "nbformat_minor": 5
}
